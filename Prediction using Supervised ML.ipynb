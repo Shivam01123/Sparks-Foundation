{
 "cells": [
  {
   "cell_type": "markdown",
   "id": "7ec5603f",
   "metadata": {},
   "source": [
    "## Sparks Foundation Internship  #GRIPJUN21\n",
    "## Data Science & Business Analytics\n",
    "### Author - *Shivam Kumar Chaudhary*\n",
    "<b><hr></b>\n",
    "<b><hr></b>"
   ]
  },
  {
   "cell_type": "markdown",
   "id": "86ffc37e",
   "metadata": {},
   "source": [
    "## *Prediction using Supervised ML*\n",
    "### Task :\n",
    "<b>\n",
    "    <ol>\n",
    "      <li>Predict  the <i>Percentage Score</i> of a student based on the no. of <i>study hours</i></li>\n",
    "      <li>What will be predicted score if a student studies for 9.25 hrs/day?</li>\n",
    "    </ol>\n",
    "</b>\n",
    "\n",
    "##### Dataset used: https://raw.githubusercontent.com/AdiPersonalWorks/Random/master/student_scores%20-%20student_scores.csv\n",
    "<hr>\n",
    "<hr>"
   ]
  },
  {
   "cell_type": "code",
   "execution_count": 1,
   "id": "1595f8fa",
   "metadata": {},
   "outputs": [],
   "source": [
    "# Importing libraries \n",
    "import numpy as np\n",
    "import pandas as pd\n",
    "import matplotlib.pyplot as plt \n",
    "import seaborn as sns\n",
    "from sklearn.model_selection import train_test_split\n",
    "from sklearn.linear_model import LinearRegression\n",
    "from sklearn.metrics import r2_score, mean_absolute_error"
   ]
  },
  {
   "cell_type": "markdown",
   "id": "2bfc65ce",
   "metadata": {},
   "source": [
    "# Step 1: Gathering Data"
   ]
  },
  {
   "cell_type": "code",
   "execution_count": 2,
   "id": "c3f1a0ec",
   "metadata": {},
   "outputs": [
    {
     "data": {
      "text/html": [
       "<div>\n",
       "<style scoped>\n",
       "    .dataframe tbody tr th:only-of-type {\n",
       "        vertical-align: middle;\n",
       "    }\n",
       "\n",
       "    .dataframe tbody tr th {\n",
       "        vertical-align: top;\n",
       "    }\n",
       "\n",
       "    .dataframe thead th {\n",
       "        text-align: right;\n",
       "    }\n",
       "</style>\n",
       "<table border=\"1\" class=\"dataframe\">\n",
       "  <thead>\n",
       "    <tr style=\"text-align: right;\">\n",
       "      <th></th>\n",
       "      <th>Hours</th>\n",
       "      <th>Scores</th>\n",
       "    </tr>\n",
       "  </thead>\n",
       "  <tbody>\n",
       "    <tr>\n",
       "      <th>0</th>\n",
       "      <td>2.5</td>\n",
       "      <td>21</td>\n",
       "    </tr>\n",
       "    <tr>\n",
       "      <th>1</th>\n",
       "      <td>5.1</td>\n",
       "      <td>47</td>\n",
       "    </tr>\n",
       "    <tr>\n",
       "      <th>2</th>\n",
       "      <td>3.2</td>\n",
       "      <td>27</td>\n",
       "    </tr>\n",
       "    <tr>\n",
       "      <th>3</th>\n",
       "      <td>8.5</td>\n",
       "      <td>75</td>\n",
       "    </tr>\n",
       "    <tr>\n",
       "      <th>4</th>\n",
       "      <td>3.5</td>\n",
       "      <td>30</td>\n",
       "    </tr>\n",
       "    <tr>\n",
       "      <th>5</th>\n",
       "      <td>1.5</td>\n",
       "      <td>20</td>\n",
       "    </tr>\n",
       "    <tr>\n",
       "      <th>6</th>\n",
       "      <td>9.2</td>\n",
       "      <td>88</td>\n",
       "    </tr>\n",
       "    <tr>\n",
       "      <th>7</th>\n",
       "      <td>5.5</td>\n",
       "      <td>60</td>\n",
       "    </tr>\n",
       "    <tr>\n",
       "      <th>8</th>\n",
       "      <td>8.3</td>\n",
       "      <td>81</td>\n",
       "    </tr>\n",
       "    <tr>\n",
       "      <th>9</th>\n",
       "      <td>2.7</td>\n",
       "      <td>25</td>\n",
       "    </tr>\n",
       "  </tbody>\n",
       "</table>\n",
       "</div>"
      ],
      "text/plain": [
       "   Hours  Scores\n",
       "0    2.5      21\n",
       "1    5.1      47\n",
       "2    3.2      27\n",
       "3    8.5      75\n",
       "4    3.5      30\n",
       "5    1.5      20\n",
       "6    9.2      88\n",
       "7    5.5      60\n",
       "8    8.3      81\n",
       "9    2.7      25"
      ]
     },
     "execution_count": 2,
     "metadata": {},
     "output_type": "execute_result"
    }
   ],
   "source": [
    "# Loading the data set\n",
    "url = r'https://raw.githubusercontent.com/AdiPersonalWorks/Random/master/student_scores%20-%20student_scores.csv'\n",
    "student_data = pd.read_csv(url)\n",
    "student_data.head(10)"
   ]
  },
  {
   "cell_type": "markdown",
   "id": "4e8804c8",
   "metadata": {},
   "source": [
    "# Step 2: Analyzing the Data"
   ]
  },
  {
   "cell_type": "code",
   "execution_count": 3,
   "id": "00a6db8c",
   "metadata": {},
   "outputs": [
    {
     "data": {
      "text/plain": [
       "(25, 2)"
      ]
     },
     "execution_count": 3,
     "metadata": {},
     "output_type": "execute_result"
    }
   ],
   "source": [
    "# Finding the shape of dataset\n",
    "student_data.shape"
   ]
  },
  {
   "cell_type": "code",
   "execution_count": 4,
   "id": "a7cf3f60",
   "metadata": {
    "scrolled": true
   },
   "outputs": [
    {
     "name": "stdout",
     "output_type": "stream",
     "text": [
      "<class 'pandas.core.frame.DataFrame'>\n",
      "RangeIndex: 25 entries, 0 to 24\n",
      "Data columns (total 2 columns):\n",
      " #   Column  Non-Null Count  Dtype  \n",
      "---  ------  --------------  -----  \n",
      " 0   Hours   25 non-null     float64\n",
      " 1   Scores  25 non-null     int64  \n",
      "dtypes: float64(1), int64(1)\n",
      "memory usage: 528.0 bytes\n"
     ]
    }
   ],
   "source": [
    "# Checking for Null values\n",
    "student_data.info()"
   ]
  },
  {
   "cell_type": "markdown",
   "id": "b037d5cd",
   "metadata": {},
   "source": [
    "#### As we can see above that, there are no null values in the dataset because (count(row) = count(non null value)). So there is no need of dealing with missing values."
   ]
  },
  {
   "cell_type": "code",
   "execution_count": 5,
   "id": "37a4de14",
   "metadata": {},
   "outputs": [
    {
     "data": {
      "text/html": [
       "<div>\n",
       "<style scoped>\n",
       "    .dataframe tbody tr th:only-of-type {\n",
       "        vertical-align: middle;\n",
       "    }\n",
       "\n",
       "    .dataframe tbody tr th {\n",
       "        vertical-align: top;\n",
       "    }\n",
       "\n",
       "    .dataframe thead th {\n",
       "        text-align: right;\n",
       "    }\n",
       "</style>\n",
       "<table border=\"1\" class=\"dataframe\">\n",
       "  <thead>\n",
       "    <tr style=\"text-align: right;\">\n",
       "      <th></th>\n",
       "      <th>Hours</th>\n",
       "      <th>Scores</th>\n",
       "    </tr>\n",
       "  </thead>\n",
       "  <tbody>\n",
       "    <tr>\n",
       "      <th>count</th>\n",
       "      <td>25.000000</td>\n",
       "      <td>25.000000</td>\n",
       "    </tr>\n",
       "    <tr>\n",
       "      <th>mean</th>\n",
       "      <td>5.012000</td>\n",
       "      <td>51.480000</td>\n",
       "    </tr>\n",
       "    <tr>\n",
       "      <th>std</th>\n",
       "      <td>2.525094</td>\n",
       "      <td>25.286887</td>\n",
       "    </tr>\n",
       "    <tr>\n",
       "      <th>min</th>\n",
       "      <td>1.100000</td>\n",
       "      <td>17.000000</td>\n",
       "    </tr>\n",
       "    <tr>\n",
       "      <th>25%</th>\n",
       "      <td>2.700000</td>\n",
       "      <td>30.000000</td>\n",
       "    </tr>\n",
       "    <tr>\n",
       "      <th>50%</th>\n",
       "      <td>4.800000</td>\n",
       "      <td>47.000000</td>\n",
       "    </tr>\n",
       "    <tr>\n",
       "      <th>75%</th>\n",
       "      <td>7.400000</td>\n",
       "      <td>75.000000</td>\n",
       "    </tr>\n",
       "    <tr>\n",
       "      <th>max</th>\n",
       "      <td>9.200000</td>\n",
       "      <td>95.000000</td>\n",
       "    </tr>\n",
       "  </tbody>\n",
       "</table>\n",
       "</div>"
      ],
      "text/plain": [
       "           Hours     Scores\n",
       "count  25.000000  25.000000\n",
       "mean    5.012000  51.480000\n",
       "std     2.525094  25.286887\n",
       "min     1.100000  17.000000\n",
       "25%     2.700000  30.000000\n",
       "50%     4.800000  47.000000\n",
       "75%     7.400000  75.000000\n",
       "max     9.200000  95.000000"
      ]
     },
     "execution_count": 5,
     "metadata": {},
     "output_type": "execute_result"
    }
   ],
   "source": [
    "# Describing data\n",
    "student_data.describe()"
   ]
  },
  {
   "cell_type": "code",
   "execution_count": 6,
   "id": "36aba908",
   "metadata": {
    "scrolled": true
   },
   "outputs": [
    {
     "data": {
      "image/png": "[encoded data removed]",
      "text/plain": [
       "<Figure size 1080x216 with 2 Axes>"
      ]
     },
     "metadata": {
      "needs_background": "light"
     },
     "output_type": "display_data"
    }
   ],
   "source": [
    "# Checking for Outliers in the data using Boxplot\n",
    "fig, axes = plt.subplots(1,2, figsize = (15, 3))\n",
    "fig.suptitle(\"Boxplot of Hours Studied and Percentage Score for checking Outliers\")\n",
    "sns.set_style('whitegrid')\n",
    "sns.boxplot(ax = axes[0], x = student_data['Hours'], color = 'green')\n",
    "sns.boxplot(ax = axes[1], x = student_data['Scores'], color = 'green')\n",
    "plt.show()"
   ]
  },
  {
   "cell_type": "markdown",
   "id": "335e77c4",
   "metadata": {},
   "source": [
    "### Above boxplot verifies that there are no outliers present in data.\n",
    "<hr>"
   ]
  },
  {
   "cell_type": "markdown",
   "id": "0acae879",
   "metadata": {},
   "source": [
    "<h3>Correlation</h3>\n",
    "<b>\n",
    "<ul>\n",
    "  <li>-1: Perfect negative correlation. Means if one variable increases, the other variable decreases.</li>\n",
    "  <li> 0: No correlation. The variables do not have a relationship with each other.</li>\n",
    "  <li> 1: Perfect positive correlation. Means if one variable increases, the other variable also increases.</li>\n",
    "</ul>\n",
    "</b>\n",
    "\n",
    "If  <i><b>|Correlation| >= 0.6</b></i>  then it a good correlation and it can be used but it also depends on the case where you are  using it. "
   ]
  },
  {
   "cell_type": "code",
   "execution_count": 7,
   "id": "152bea37",
   "metadata": {},
   "outputs": [
    {
     "data": {
      "text/plain": [
       "<AxesSubplot:>"
      ]
     },
     "execution_count": 7,
     "metadata": {},
     "output_type": "execute_result"
    },
    {
     "data": {
      "image/png": "[encoded data removed]",
      "text/plain": [
       "<Figure size 432x288 with 2 Axes>"
      ]
     },
     "metadata": {},
     "output_type": "display_data"
    }
   ],
   "source": [
    "correlation = student_data.corr()\n",
    "sns.heatmap(correlation, annot = True, cmap = \"viridis\")"
   ]
  },
  {
   "cell_type": "markdown",
   "id": "f6397928",
   "metadata": {},
   "source": [
    "#### Here, we can see that the \"Hours\" and \"Scores\" got a 0.976191 correlation, which is a very good positive correlation so we can predict \"Scores\" based on the value of \"Hours\"."
   ]
  },
  {
   "cell_type": "markdown",
   "id": "4efa2497",
   "metadata": {},
   "source": [
    "##### "
   ]
  },
  {
   "cell_type": "code",
   "execution_count": 8,
   "id": "d4e99f1d",
   "metadata": {},
   "outputs": [
    {
     "data": {
      "image/png": "[encoded data removed]",
      "text/plain": [
       "<Figure size 432x288 with 1 Axes>"
      ]
     },
     "metadata": {},
     "output_type": "display_data"
    }
   ],
   "source": [
    "# plotting the distribution of student data using \"Matplot Library\"\n",
    "plt.scatter(student_data['Hours'], student_data['Scores'])\n",
    "plt.title(\"Percentage Score of students based on study hours\")\n",
    "plt.xlabel('Hours Studied')  \n",
    "plt.ylabel('Percentage Score')  \n",
    "plt.show()"
   ]
  },
  {
   "cell_type": "markdown",
   "id": "a4bec4c6",
   "metadata": {},
   "source": [
    "#### The above scatter plot shows that if the Hours Studied increases then corresponding Percentage Score also increases. It also shows that there is a positive  linear dependency between \"Hours\" and \"Scores\"."
   ]
  },
  {
   "cell_type": "markdown",
   "id": "ce38e3ef",
   "metadata": {},
   "source": [
    "# Step 3: Preparing that Data for Model Creation"
   ]
  },
  {
   "cell_type": "code",
   "execution_count": 9,
   "id": "d2cb640d",
   "metadata": {},
   "outputs": [],
   "source": [
    "# Data Prepareation for Model Creation\n",
    "# Splitting the data into Independent(Input) variables and Dependent(Target) variable\n",
    "x = student_data[\"Hours\"].values.reshape(-1,1) # here 1 stands for only one column \n",
    "y = student_data[\"Scores\"].values.reshape(-1,1)"
   ]
  },
  {
   "cell_type": "code",
   "execution_count": 10,
   "id": "da6fc266",
   "metadata": {},
   "outputs": [
    {
     "name": "stdout",
     "output_type": "stream",
     "text": [
      "----Shape of Datasets----\n",
      "Training Set X :  (20, 1)\n",
      "Training Set Y :  (20, 1)\n",
      "Test Set X     :  (5, 1)\n",
      "Test Set Y     :  (5, 1)\n"
     ]
    }
   ],
   "source": [
    "# Splitting the data into Training and Testing Set by using Scikit-Learn's built-in train_test_split() method:\n",
    "# It is sujjested that use 75% of the original data for the Training and remaining 25% data for the Testing\n",
    "# Here, Splitting 20% of the original data into the Testing set and remaining data into the Training set\n",
    "\n",
    "x_train, x_test, y_train, y_test = train_test_split(x,y, test_size = 0.2, random_state = 0)\n",
    "\n",
    "print(\"----Shape of Datasets----\")\n",
    "print(\"Training Set X : \", x_train.shape)\n",
    "print(\"Training Set Y : \", y_train.shape)\n",
    "print(\"Test Set X     : \", x_test.shape)\n",
    "print(\"Test Set Y     : \", y_test.shape)"
   ]
  },
  {
   "cell_type": "markdown",
   "id": "e59cfbdd",
   "metadata": {},
   "source": [
    "# Step 4: Model Creation"
   ]
  },
  {
   "cell_type": "code",
   "execution_count": 11,
   "id": "c1cfb568",
   "metadata": {
    "scrolled": false
   },
   "outputs": [
    {
     "name": "stdout",
     "output_type": "stream",
     "text": [
      "Simple Linear Regression Model created.\n"
     ]
    }
   ],
   "source": [
    "# Model Creation (Simple Linear Regression using Scikit-Learn library)\n",
    "model =  LinearRegression()\n",
    "print(\"Simple Linear Regression Model created.\")"
   ]
  },
  {
   "cell_type": "markdown",
   "id": "c3d0edc1",
   "metadata": {},
   "source": [
    "# Step 5: Training the created Model"
   ]
  },
  {
   "cell_type": "code",
   "execution_count": 12,
   "id": "ee947081",
   "metadata": {},
   "outputs": [
    {
     "name": "stdout",
     "output_type": "stream",
     "text": [
      "Training completed.\n",
      "\n",
      "Coefficient:  [[9.91065648]]\n",
      "Intercept:  [2.01816004]\n"
     ]
    }
   ],
   "source": [
    "# Training the Model\n",
    "model.fit(x_train, y_train)\n",
    "print(\"Training completed.\\n\")\n",
    "\n",
    "print(\"Coefficient: \", model.coef_)\n",
    "print(\"Intercept: \", model.intercept_)"
   ]
  },
  {
   "cell_type": "markdown",
   "id": "21127ff1",
   "metadata": {},
   "source": [
    "# Step 6: Model visualization "
   ]
  },
  {
   "cell_type": "code",
   "execution_count": 13,
   "id": "4746e55f",
   "metadata": {},
   "outputs": [
    {
     "data": {
      "image/png": "[encoded data removed]",
      "text/plain": [
       "<Figure size 432x288 with 1 Axes>"
      ]
     },
     "metadata": {},
     "output_type": "display_data"
    }
   ],
   "source": [
    "# Plotting the regression line on the Scatter Plot\n",
    "# y = mx + c\n",
    "line = (model.coef_*x) + model.intercept_  \n",
    "# Plotting for the test data\n",
    "plt.scatter(x, y, c = \"Red\")\n",
    "plt.plot(x, line)\n",
    "plt.title('Regression Plot')\n",
    "plt.xlabel('Hours Studied')  \n",
    "plt.ylabel('Percentage Score')  \n",
    "plt.show()"
   ]
  },
  {
   "cell_type": "markdown",
   "id": "c844ae57",
   "metadata": {},
   "source": [
    "# Step 7: Predicting the Test Dataset using created Model"
   ]
  },
  {
   "cell_type": "code",
   "execution_count": 14,
   "id": "b1726d73",
   "metadata": {},
   "outputs": [
    {
     "name": "stdout",
     "output_type": "stream",
     "text": [
      "[[16.88414476]\n",
      " [33.73226078]\n",
      " [75.357018  ]\n",
      " [26.79480124]\n",
      " [60.49103328]]\n"
     ]
    }
   ],
   "source": [
    "# Prediction using the Created Model\n",
    "# Predicting test Dataset\n",
    "y_predicted = model.predict(x_test)\n",
    "print(y_predicted)"
   ]
  },
  {
   "cell_type": "markdown",
   "id": "d71eac5a",
   "metadata": {},
   "source": [
    "# Step 7: Model Evaluation"
   ]
  },
  {
   "cell_type": "code",
   "execution_count": 15,
   "id": "0a4cfc5f",
   "metadata": {},
   "outputs": [
    {
     "name": "stdout",
     "output_type": "stream",
     "text": [
      "   Actual  Predicted\n",
      "0      20  16.884145\n",
      "1      27  33.732261\n",
      "2      69  75.357018\n",
      "3      30  26.794801\n",
      "4      62  60.491033\n"
     ]
    }
   ],
   "source": [
    "# Comparing Actual vs Predicted values \n",
    "df = pd.DataFrame({'Actual': y_test.ravel(), 'Predicted': y_predicted.ravel()})  \n",
    "# ravel() is used in Numpy to make any nD array into 1D array \n",
    "print(df)"
   ]
  },
  {
   "cell_type": "code",
   "execution_count": 19,
   "id": "95f5b1e2",
   "metadata": {
    "scrolled": true
   },
   "outputs": [
    {
     "name": "stdout",
     "output_type": "stream",
     "text": [
      "Mean Absolute Error :  4.183859899002975\n",
      "R2_score :  0.9454906892105355\n"
     ]
    }
   ],
   "source": [
    "# Model Evaluation\n",
    "print(\"Mean Absolute Error : \", mean_absolute_error(y_test, y_predicted))\n",
    "print(\"R2_score : \", r2_score(y_test, y_predicted))"
   ]
  },
  {
   "cell_type": "markdown",
   "id": "d2cd5549",
   "metadata": {},
   "source": [
    "<h3>Observation</h3>\n",
    "<b><ul>\n",
    "      <li>Predicted values are having very minimal error.</li>\n",
    "      <li>The Overall accuracy of this model is 94%.</li>\n",
    "</ul></b>"
   ]
  },
  {
   "cell_type": "markdown",
   "id": "01c696f0",
   "metadata": {},
   "source": [
    "# Step 8: Final Prediction"
   ]
  },
  {
   "cell_type": "code",
   "execution_count": 18,
   "id": "3cd1e9b5",
   "metadata": {
    "scrolled": true
   },
   "outputs": [
    {
     "name": "stdout",
     "output_type": "stream",
     "text": [
      "[[93.7]]\n"
     ]
    }
   ],
   "source": [
    "# Predicting Percentage score if a student studies for 9.25 hrs/day\n",
    "hour = np.array([9.25]).reshape(-1,1)\n",
    "percentage = model.predict(hour)\n",
    "percentage = np.round(percentage, decimals = 1)\n",
    "print(percentage)"
   ]
  },
  {
   "cell_type": "markdown",
   "id": "408c94ec",
   "metadata": {},
   "source": [
    "### Here, This Linear regression model predicts that if a student study for 9.25 hrs/day, then they will get approximately 93.7% score."
   ]
  }
 ],
 "metadata": {
  "kernelspec": {
   "display_name": "Python 3",
   "language": "python",
   "name": "python3"
  },
  "language_info": {
   "codemirror_mode": {
    "name": "ipython",
    "version": 3
   },
   "file_extension": ".py",
   "mimetype": "text/x-python",
   "name": "python",
   "nbconvert_exporter": "python",
   "pygments_lexer": "ipython3",
   "version": "3.8.3"
  }
 },
 "nbformat": 4,
 "nbformat_minor": 5
}
